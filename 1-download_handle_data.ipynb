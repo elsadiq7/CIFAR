{
 "cells": [
  {
   "metadata": {},
   "cell_type": "markdown",
   "source": [
    "# CIFAR-10 Dataset\n",
    "\n",
    "\n",
    "\n"
   ],
   "id": "521f674d541cdcf"
  },
  {
   "metadata": {},
   "cell_type": "markdown",
   "source": [
    "### Objects to Classify:\n",
    "- Airplane ,Truck ,Automobile ,Bird ,Cat ,Deer ,Dog ,Frog , Horse, Ship"
   ],
   "id": "d117e5e3f39d1136"
  },
  {
   "metadata": {
    "ExecuteTime": {
     "end_time": "2024-10-15T19:18:59.542573Z",
     "start_time": "2024-10-15T19:18:58.483139Z"
    }
   },
   "cell_type": "code",
   "source": [
    "from utlis.download_handle_data import *\n",
    "# Example URL for the CIFAR-10 dataset (replace with the actual URL)\n",
    "cifar10_url = 'https://www.cs.toronto.edu/~kriz/cifar-10-python.tar.gz'\n",
    "# Call the function to download and extract the data\n",
    "download_data(cifar10_url)"
   ],
   "id": "56c57df6ea228a96",
   "outputs": [
    {
     "name": "stdout",
     "output_type": "stream",
     "text": [
      "Directory already exists\n",
      "File already exists\n"
     ]
    }
   ],
   "execution_count": 1
  },
  {
   "metadata": {
    "ExecuteTime": {
     "end_time": "2024-10-15T19:19:09.188523Z",
     "start_time": "2024-10-15T19:19:06.175103Z"
    }
   },
   "cell_type": "code",
   "source": "extract_cifar10_data('data')",
   "id": "bdcfe305178df4b1",
   "outputs": [
    {
     "ename": "OSError",
     "evalue": "[Errno 22] Invalid argument: 'data\\\\cifar-10-batches-py\\\\data_batch_3'",
     "output_type": "error",
     "traceback": [
      "\u001B[1;31m---------------------------------------------------------------------------\u001B[0m",
      "\u001B[1;31mOSError\u001B[0m                                   Traceback (most recent call last)",
      "Cell \u001B[1;32mIn[2], line 1\u001B[0m\n\u001B[1;32m----> 1\u001B[0m extract_cifar10_data(\u001B[38;5;124m'\u001B[39m\u001B[38;5;124mdata\u001B[39m\u001B[38;5;124m'\u001B[39m)\n",
      "File \u001B[1;32mD:\\1-brain_insipred\\cv\\cifar\\utlis\\download_handle_data.py:62\u001B[0m, in \u001B[0;36mextract_cifar10_data\u001B[1;34m(directory)\u001B[0m\n\u001B[0;32m     60\u001B[0m \u001B[38;5;66;03m# Extract the contents of the .tar.gz file\u001B[39;00m\n\u001B[0;32m     61\u001B[0m \u001B[38;5;28;01mwith\u001B[39;00m tarfile\u001B[38;5;241m.\u001B[39mopen(local_filename, \u001B[38;5;124m'\u001B[39m\u001B[38;5;124mr:gz\u001B[39m\u001B[38;5;124m'\u001B[39m) \u001B[38;5;28;01mas\u001B[39;00m tar:\n\u001B[1;32m---> 62\u001B[0m     tar\u001B[38;5;241m.\u001B[39mextractall(path\u001B[38;5;241m=\u001B[39mdirectory)  \u001B[38;5;66;03m# Extract to the specified directory\u001B[39;00m\n\u001B[0;32m     63\u001B[0m \u001B[38;5;28mprint\u001B[39m(\u001B[38;5;124mf\u001B[39m\u001B[38;5;124m\"\u001B[39m\u001B[38;5;124mContents extracted to: \u001B[39m\u001B[38;5;132;01m{\u001B[39;00mdirectory\u001B[38;5;132;01m}\u001B[39;00m\u001B[38;5;124m\"\u001B[39m)\n",
      "File \u001B[1;32m~\\anaconda3\\Lib\\tarfile.py:2269\u001B[0m, in \u001B[0;36mTarFile.extractall\u001B[1;34m(self, path, members, numeric_owner, filter)\u001B[0m\n\u001B[0;32m   2264\u001B[0m     \u001B[38;5;28;01mif\u001B[39;00m tarinfo\u001B[38;5;241m.\u001B[39misdir():\n\u001B[0;32m   2265\u001B[0m         \u001B[38;5;66;03m# For directories, delay setting attributes until later,\u001B[39;00m\n\u001B[0;32m   2266\u001B[0m         \u001B[38;5;66;03m# since permissions can interfere with extraction and\u001B[39;00m\n\u001B[0;32m   2267\u001B[0m         \u001B[38;5;66;03m# extracting contents can reset mtime.\u001B[39;00m\n\u001B[0;32m   2268\u001B[0m         directories\u001B[38;5;241m.\u001B[39mappend(tarinfo)\n\u001B[1;32m-> 2269\u001B[0m     \u001B[38;5;28mself\u001B[39m\u001B[38;5;241m.\u001B[39m_extract_one(tarinfo, path, set_attrs\u001B[38;5;241m=\u001B[39m\u001B[38;5;129;01mnot\u001B[39;00m tarinfo\u001B[38;5;241m.\u001B[39misdir(),\n\u001B[0;32m   2270\u001B[0m                       numeric_owner\u001B[38;5;241m=\u001B[39mnumeric_owner)\n\u001B[0;32m   2272\u001B[0m \u001B[38;5;66;03m# Reverse sort directories.\u001B[39;00m\n\u001B[0;32m   2273\u001B[0m directories\u001B[38;5;241m.\u001B[39msort(key\u001B[38;5;241m=\u001B[39m\u001B[38;5;28;01mlambda\u001B[39;00m a: a\u001B[38;5;241m.\u001B[39mname, reverse\u001B[38;5;241m=\u001B[39m\u001B[38;5;28;01mTrue\u001B[39;00m)\n",
      "File \u001B[1;32m~\\anaconda3\\Lib\\tarfile.py:2336\u001B[0m, in \u001B[0;36mTarFile._extract_one\u001B[1;34m(self, tarinfo, path, set_attrs, numeric_owner)\u001B[0m\n\u001B[0;32m   2332\u001B[0m     \u001B[38;5;28mself\u001B[39m\u001B[38;5;241m.\u001B[39m_extract_member(tarinfo, os\u001B[38;5;241m.\u001B[39mpath\u001B[38;5;241m.\u001B[39mjoin(path, tarinfo\u001B[38;5;241m.\u001B[39mname),\n\u001B[0;32m   2333\u001B[0m                          set_attrs\u001B[38;5;241m=\u001B[39mset_attrs,\n\u001B[0;32m   2334\u001B[0m                          numeric_owner\u001B[38;5;241m=\u001B[39mnumeric_owner)\n\u001B[0;32m   2335\u001B[0m \u001B[38;5;28;01mexcept\u001B[39;00m \u001B[38;5;167;01mOSError\u001B[39;00m \u001B[38;5;28;01mas\u001B[39;00m e:\n\u001B[1;32m-> 2336\u001B[0m     \u001B[38;5;28mself\u001B[39m\u001B[38;5;241m.\u001B[39m_handle_fatal_error(e)\n\u001B[0;32m   2337\u001B[0m \u001B[38;5;28;01mexcept\u001B[39;00m ExtractError \u001B[38;5;28;01mas\u001B[39;00m e:\n\u001B[0;32m   2338\u001B[0m     \u001B[38;5;28mself\u001B[39m\u001B[38;5;241m.\u001B[39m_handle_nonfatal_error(e)\n",
      "File \u001B[1;32m~\\anaconda3\\Lib\\tarfile.py:2332\u001B[0m, in \u001B[0;36mTarFile._extract_one\u001B[1;34m(self, tarinfo, path, set_attrs, numeric_owner)\u001B[0m\n\u001B[0;32m   2329\u001B[0m \u001B[38;5;28mself\u001B[39m\u001B[38;5;241m.\u001B[39m_check(\u001B[38;5;124m\"\u001B[39m\u001B[38;5;124mr\u001B[39m\u001B[38;5;124m\"\u001B[39m)\n\u001B[0;32m   2331\u001B[0m \u001B[38;5;28;01mtry\u001B[39;00m:\n\u001B[1;32m-> 2332\u001B[0m     \u001B[38;5;28mself\u001B[39m\u001B[38;5;241m.\u001B[39m_extract_member(tarinfo, os\u001B[38;5;241m.\u001B[39mpath\u001B[38;5;241m.\u001B[39mjoin(path, tarinfo\u001B[38;5;241m.\u001B[39mname),\n\u001B[0;32m   2333\u001B[0m                          set_attrs\u001B[38;5;241m=\u001B[39mset_attrs,\n\u001B[0;32m   2334\u001B[0m                          numeric_owner\u001B[38;5;241m=\u001B[39mnumeric_owner)\n\u001B[0;32m   2335\u001B[0m \u001B[38;5;28;01mexcept\u001B[39;00m \u001B[38;5;167;01mOSError\u001B[39;00m \u001B[38;5;28;01mas\u001B[39;00m e:\n\u001B[0;32m   2336\u001B[0m     \u001B[38;5;28mself\u001B[39m\u001B[38;5;241m.\u001B[39m_handle_fatal_error(e)\n",
      "File \u001B[1;32m~\\anaconda3\\Lib\\tarfile.py:2415\u001B[0m, in \u001B[0;36mTarFile._extract_member\u001B[1;34m(self, tarinfo, targetpath, set_attrs, numeric_owner)\u001B[0m\n\u001B[0;32m   2412\u001B[0m     \u001B[38;5;28mself\u001B[39m\u001B[38;5;241m.\u001B[39m_dbg(\u001B[38;5;241m1\u001B[39m, tarinfo\u001B[38;5;241m.\u001B[39mname)\n\u001B[0;32m   2414\u001B[0m \u001B[38;5;28;01mif\u001B[39;00m tarinfo\u001B[38;5;241m.\u001B[39misreg():\n\u001B[1;32m-> 2415\u001B[0m     \u001B[38;5;28mself\u001B[39m\u001B[38;5;241m.\u001B[39mmakefile(tarinfo, targetpath)\n\u001B[0;32m   2416\u001B[0m \u001B[38;5;28;01melif\u001B[39;00m tarinfo\u001B[38;5;241m.\u001B[39misdir():\n\u001B[0;32m   2417\u001B[0m     \u001B[38;5;28mself\u001B[39m\u001B[38;5;241m.\u001B[39mmakedir(tarinfo, targetpath)\n",
      "File \u001B[1;32m~\\anaconda3\\Lib\\tarfile.py:2461\u001B[0m, in \u001B[0;36mTarFile.makefile\u001B[1;34m(self, tarinfo, targetpath)\u001B[0m\n\u001B[0;32m   2459\u001B[0m source\u001B[38;5;241m.\u001B[39mseek(tarinfo\u001B[38;5;241m.\u001B[39moffset_data)\n\u001B[0;32m   2460\u001B[0m bufsize \u001B[38;5;241m=\u001B[39m \u001B[38;5;28mself\u001B[39m\u001B[38;5;241m.\u001B[39mcopybufsize\n\u001B[1;32m-> 2461\u001B[0m \u001B[38;5;28;01mwith\u001B[39;00m bltn_open(targetpath, \u001B[38;5;124m\"\u001B[39m\u001B[38;5;124mwb\u001B[39m\u001B[38;5;124m\"\u001B[39m) \u001B[38;5;28;01mas\u001B[39;00m target:\n\u001B[0;32m   2462\u001B[0m     \u001B[38;5;28;01mif\u001B[39;00m tarinfo\u001B[38;5;241m.\u001B[39msparse \u001B[38;5;129;01mis\u001B[39;00m \u001B[38;5;129;01mnot\u001B[39;00m \u001B[38;5;28;01mNone\u001B[39;00m:\n\u001B[0;32m   2463\u001B[0m         \u001B[38;5;28;01mfor\u001B[39;00m offset, size \u001B[38;5;129;01min\u001B[39;00m tarinfo\u001B[38;5;241m.\u001B[39msparse:\n",
      "\u001B[1;31mOSError\u001B[0m: [Errno 22] Invalid argument: 'data\\\\cifar-10-batches-py\\\\data_batch_3'"
     ]
    }
   ],
   "execution_count": 2
  },
  {
   "metadata": {
    "ExecuteTime": {
     "end_time": "2024-10-15T19:12:21.389390Z",
     "start_time": "2024-10-15T19:12:21.381730Z"
    }
   },
   "cell_type": "code",
   "source": [
    "import shutil\n",
    "# Specify the directory you want to remove\n",
    "directory = \"data/images\"\n",
    "# Remove the directory and all its contents\n",
    "rm=False\n",
    "if rm:\n",
    "  shutil.rmtree(directory)"
   ],
   "id": "e08332f68334e9c3",
   "outputs": [],
   "execution_count": 16
  },
  {
   "metadata": {
    "ExecuteTime": {
     "end_time": "2024-10-15T18:21:10.650024Z",
     "start_time": "2024-10-15T18:14:48.415872Z"
    }
   },
   "cell_type": "code",
   "source": [
    "test_data = ConvertDataToImages()\n",
    "for i in range(1,5):\n",
    "   print(\"Testing\", i)\n",
    "   test_data.run(f'data/cifar-10-batches-py/data_batch_{i}',\"data/images/train.txt\",i==4)\n",
    "   print(\"End Testing\", i)\n",
    "print(\"Testing\", 5)\n",
    "test_data.run(f'data/cifar-10-batches-py/data_batch_{5}',\"data/images/val.txt\",1)\n",
    "print(\"End Testing\", 5)\n",
    "print(\"Testing\", 6)\n",
    "test_data.run(f\"data/cifar-10-batches-py/test_batch\",\"data/images/test.txt\",1)\n",
    "print(\"End Testing\", 6)"
   ],
   "id": "c46fbb59613bc5b0",
   "outputs": [
    {
     "name": "stdout",
     "output_type": "stream",
     "text": [
      "Testing 1\n",
      "End Testing 1\n",
      "Testing 2\n",
      "Files already exist. Skipping directory creation.\n",
      "End Testing 2\n",
      "Testing 3\n",
      "Files already exist. Skipping directory creation.\n",
      "End Testing 3\n",
      "Testing 4\n",
      "Files already exist. Skipping directory creation.\n",
      "End Testing 4\n",
      "Testing 5\n",
      "Files already exist. Skipping directory creation.\n",
      "End Testing 5\n",
      "Testing 6\n",
      "Files already exist. Skipping directory creation.\n",
      "End Testing 6\n"
     ]
    }
   ],
   "execution_count": 9
  }
 ],
 "metadata": {
  "kernelspec": {
   "display_name": "Python 3",
   "language": "python",
   "name": "python3"
  },
  "language_info": {
   "codemirror_mode": {
    "name": "ipython",
    "version": 2
   },
   "file_extension": ".py",
   "mimetype": "text/x-python",
   "name": "python",
   "nbconvert_exporter": "python",
   "pygments_lexer": "ipython2",
   "version": "2.7.6"
  }
 },
 "nbformat": 4,
 "nbformat_minor": 5
}
