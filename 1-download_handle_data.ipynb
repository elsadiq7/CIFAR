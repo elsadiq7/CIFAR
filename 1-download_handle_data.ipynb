{
 "cells": [
  {
   "metadata": {},
   "cell_type": "markdown",
   "source": [
    "# CIFAR-10 Dataset\n",
    "\n",
    "\n",
    "\n"
   ],
   "id": "521f674d541cdcf"
  },
  {
   "metadata": {},
   "cell_type": "markdown",
   "source": [
    "### Objects to Classify:\n",
    "- Airplane ,Truck ,Automobile ,Bird ,Cat ,Deer ,Dog ,Frog , Horse, Ship"
   ],
   "id": "d117e5e3f39d1136"
  },
  {
   "metadata": {
    "ExecuteTime": {
     "end_time": "2024-10-16T14:36:25.027510Z",
     "start_time": "2024-10-16T14:36:25.021383Z"
    }
   },
   "cell_type": "code",
   "source": [
    "from utlis.download_handle_data import *\n",
    "# Example URL for the CIFAR-10 dataset (replace with the actual URL)\n",
    "cifar10_url = 'https://www.cs.toronto.edu/~kriz/cifar-10-python.tar.gz'\n",
    "# Call the function to download and extract the data\n",
    "download_data(cifar10_url)"
   ],
   "id": "56c57df6ea228a96",
   "outputs": [
    {
     "name": "stdout",
     "output_type": "stream",
     "text": [
      "Directory already exists\n",
      "File already exists\n"
     ]
    }
   ],
   "execution_count": 17
  },
  {
   "metadata": {
    "ExecuteTime": {
     "end_time": "2024-10-16T14:36:35.439684Z",
     "start_time": "2024-10-16T14:36:25.029008Z"
    }
   },
   "cell_type": "code",
   "source": "extract_cifar10_data('data')",
   "id": "bdcfe305178df4b1",
   "outputs": [
    {
     "name": "stdout",
     "output_type": "stream",
     "text": [
      "Contents extracted to: data\n"
     ]
    }
   ],
   "execution_count": 18
  },
  {
   "metadata": {
    "ExecuteTime": {
     "end_time": "2024-10-16T14:36:35.444989Z",
     "start_time": "2024-10-16T14:36:35.440691Z"
    }
   },
   "cell_type": "code",
   "source": [
    "import shutil\n",
    "# Specify the directory you want to remove\n",
    "directory = \"data/images\"\n",
    "# Remove the directory and all its contents\n",
    "rm=False\n",
    "if rm:\n",
    "  shutil.rmtree(directory)"
   ],
   "id": "e08332f68334e9c3",
   "outputs": [],
   "execution_count": 19
  },
  {
   "metadata": {
    "ExecuteTime": {
     "end_time": "2024-10-16T14:40:22.152151Z",
     "start_time": "2024-10-16T14:36:35.446928Z"
    }
   },
   "cell_type": "code",
   "source": [
    "test_data = ConvertDataToImages()\n",
    "for i in range(1,5):\n",
    "   print(\"Testing\", i)\n",
    "   test_data.run(f'data/cifar-10-batches-py/data_batch_{i}',\"data/images/train.txt\",i==4)\n",
    "   print(\"End Testing\", i)\n",
    "print(\"Testing\", 5)\n",
    "test_data.run(f'data/cifar-10-batches-py/data_batch_{5}',\"data/images/val.txt\",1)\n",
    "print(\"End Testing\", 5)\n",
    "print(\"Testing\", 6)\n",
    "test_data.run(f\"data/cifar-10-batches-py/test_batch\",\"data/images/test.txt\",1)\n",
    "print(\"End Testing\", 6)"
   ],
   "id": "c46fbb59613bc5b0",
   "outputs": [
    {
     "name": "stdout",
     "output_type": "stream",
     "text": [
      "Testing 1\n",
      "End Testing 1\n",
      "Testing 2\n",
      "Files already exist. Skipping directory creation.\n",
      "End Testing 2\n",
      "Testing 3\n",
      "Files already exist. Skipping directory creation.\n",
      "End Testing 3\n",
      "Testing 4\n",
      "Files already exist. Skipping directory creation.\n",
      "End Testing 4\n",
      "Testing 5\n",
      "Files already exist. Skipping directory creation.\n",
      "End Testing 5\n",
      "Testing 6\n",
      "Files already exist. Skipping directory creation.\n",
      "End Testing 6\n"
     ]
    }
   ],
   "execution_count": 20
  },
  {
   "metadata": {
    "ExecuteTime": {
     "end_time": "2024-10-16T14:40:22.164282Z",
     "start_time": "2024-10-16T14:40:22.156680Z"
    }
   },
   "cell_type": "code",
   "source": [
    "# train_data = ConvertDataToImages()\n",
    "# train_data.run(f'data/cifar-10-batches-py/data_batch_{1}',\"data/images/train_f_model_selction.txt\",True)\n"
   ],
   "id": "520b61d79e1c621e",
   "outputs": [],
   "execution_count": 21
  },
  {
   "metadata": {
    "ExecuteTime": {
     "end_time": "2024-10-16T14:40:22.171685Z",
     "start_time": "2024-10-16T14:40:22.168291Z"
    }
   },
   "cell_type": "code",
   "source": "",
   "id": "b56346aaef60ec",
   "outputs": [],
   "execution_count": 21
  }
 ],
 "metadata": {
  "kernelspec": {
   "display_name": "Python 3",
   "language": "python",
   "name": "python3"
  },
  "language_info": {
   "codemirror_mode": {
    "name": "ipython",
    "version": 2
   },
   "file_extension": ".py",
   "mimetype": "text/x-python",
   "name": "python",
   "nbconvert_exporter": "python",
   "pygments_lexer": "ipython2",
   "version": "2.7.6"
  }
 },
 "nbformat": 4,
 "nbformat_minor": 5
}
