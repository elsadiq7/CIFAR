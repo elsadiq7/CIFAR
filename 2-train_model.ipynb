{
 "cells": [
  {
   "cell_type": "code",
   "id": "initial_id",
   "metadata": {
    "collapsed": true
   },
   "source": [
    "import utlis.load_patchs\n",
    "import utlis.models_training_testing\n",
    "import utlis.plotting\n",
    "import importlib\n",
    "import os\n",
    "import copy \n",
    "# Reload the modules after changes\n",
    "importlib.reload(utlis.load_patchs)\n",
    "importlib.reload(utlis.models_training_testing)\n",
    "importlib.reload(utlis.plotting)\n",
    "\n",
    "# Then use the wildcard import to bring in the functions\n",
    "from utlis.load_patchs import *\n",
    "from utlis.models_training_testing import *\n",
    "from utlis.plotting import *\n"
   ],
   "outputs": [],
   "execution_count": null
  },
  {
   "metadata": {},
   "cell_type": "code",
   "source": [
    "classes={0: 'airplane',\n",
    " 1: 'automobile',\n",
    " 2: 'bird',\n",
    " 3: 'cat',\n",
    " 4: 'deer',\n",
    " 5: 'dog',\n",
    " 6: 'frog',\n",
    " 7: 'horse',\n",
    " 8: 'ship',\n",
    " 9: 'truck'}"
   ],
   "id": "7a614f73af04c465",
   "outputs": [],
   "execution_count": null
  },
  {
   "metadata": {},
   "cell_type": "code",
   "source": [
    "# load datasets as patchs\n",
    "train_dataset=read_image_labels(\"data/images/train.txt\", 32, [32, 32])\n",
    "val_dataset=read_image_labels(\"data/images/val.txt\", 32, [32, 32])\n",
    "test_dataset=read_image_labels(\"data/images/test.txt\", 32, [32, 32])\n",
    "# train_for_model_slection=read_image_labels(\"data/images/train_f_model_selction.txt\", 32, [32, 32])"
   ],
   "id": "3d8bb1ee1dc990b9",
   "outputs": [],
   "execution_count": null
  },
  {
   "metadata": {},
   "cell_type": "code",
   "source": [
    "one_patch = next(iter(train_dataset))  # Get the first batch\n",
    "images_patch, labels_patch = one_patch  # Unpack the images and labels\n",
    "image_shape=images_patch[0].shape\n",
    "print(\"image shape:\",image_shape)\n"
   ],
   "id": "7bd4e6f48038d5d0",
   "outputs": [],
   "execution_count": null
  },
  {
   "metadata": {},
   "cell_type": "code",
   "source": [
    "#show sample of data \n",
    "show_images(images_patch, labels_patch)"
   ],
   "id": "5dd272bb48f90b02",
   "outputs": [],
   "execution_count": null
  },
  {
   "metadata": {},
   "cell_type": "markdown",
   "source": "# choose the model",
   "id": "eacf58fdefb1ea83"
  },
  {
   "metadata": {},
   "cell_type": "code",
   "source": [
    "#load_models\n",
    "models_list = [\n",
    "    model_1(),\n",
    "    model_2(image_shape=image_shape)  ]\n",
    "print(\"*\"*90)\n",
    "for i in models_list:\n",
    "  print(\"*\"*90)\n",
    "  print(i.summary())\n",
    "  print(\"*\"*90)\n",
    "print(\"*\"*90)"
   ],
   "id": "8923a8b1e1d4ce3a",
   "outputs": [],
   "execution_count": null
  },
  {
   "metadata": {},
   "cell_type": "code",
   "source": "image_shape",
   "id": "984bc308aa4c1090",
   "outputs": [],
   "execution_count": null
  },
  {
   "metadata": {},
   "cell_type": "code",
   "source": [
    "#choose the best model \n",
    "epochs=10\n",
    "model_performance, best_model_name=train_and_evaluate_models(models_list, val_dataset, test_dataset, epochs, 32, False) "
   ],
   "id": "98a50adb7d9c21df",
   "outputs": [],
   "execution_count": null
  },
  {
   "metadata": {},
   "cell_type": "code",
   "source": [
    "#train the best model\n",
    "epochs=100\n",
    "model, history=train_and_evaluate_models( [models_list[int(best_model_name.split(\"_\")[2])-1]], train_dataset, val_dataset,epochs, 32, True)"
   ],
   "id": "549a244365c939de",
   "outputs": [],
   "execution_count": null
  },
  {
   "metadata": {},
   "cell_type": "code",
   "source": [
    "#plot the error  \n",
    "plot_accuracy(epochs, history, string=\"Validation\")"
   ],
   "id": "af97620121d79536",
   "outputs": [],
   "execution_count": null
  },
  {
   "metadata": {},
   "cell_type": "code",
   "source": [
    "acc,f1=predict(model, test_dataset)\n",
    "print(\"the model accuracy is :\",acc)\n",
    "print(\"the model f1 score is :\",f1)"
   ],
   "id": "775c59387b6df66d",
   "outputs": [],
   "execution_count": null
  },
  {
   "metadata": {},
   "cell_type": "markdown",
   "source": "### check_point",
   "id": "cd8618f00a9227f4"
  },
  {
   "metadata": {},
   "cell_type": "code",
   "source": [
    "try:\n",
    "    os.makedirs(\"models\")\n",
    "    \n",
    "except OSError:\n",
    "    print(\"Creation of the directory %s failed\" % os.path.abspath(\"models\"))\n",
    "model.save(f\"models/{best_model_name}.h5\")\n",
    "model.save(f\"models/{best_model_name}.keras\")\n"
   ],
   "id": "ef0933a63f6ac5dd",
   "outputs": [],
   "execution_count": null
  },
  {
   "metadata": {},
   "cell_type": "code",
   "outputs": [],
   "execution_count": null,
   "source": "",
   "id": "ff7c588160117f53"
  },
  {
   "metadata": {},
   "cell_type": "markdown",
   "source": "# load model ",
   "id": "e35d56423bd6632b"
  },
  {
   "metadata": {},
   "cell_type": "code",
   "source": [
    "# Load the Keras model from the .h5 file\n",
    "model_path = 'models/build_model_1.h5'  # Path to your Keras model\n",
    "model = tf.keras.models.load_model(model_path)\n",
    "\n",
    "# Print the model summary\n",
    "model.summary()\n"
   ],
   "id": "97b043f827bdf34b",
   "outputs": [],
   "execution_count": null
  },
  {
   "metadata": {},
   "cell_type": "code",
   "source": [
    "# Assume 'model' is your existing model\n",
    "deep_copied_model = copy.deepcopy(model)\n",
    "epochs=10\n",
    "deep_copied_model, history=train_and_evaluate_models([deep_copied_model], train_dataset, val_dataset, epochs, 32, True,l_r=.001,mome=0.0)"
   ],
   "id": "bf8d3c38624c868d",
   "outputs": [],
   "execution_count": null
  },
  {
   "metadata": {},
   "cell_type": "code",
   "source": [
    "acc,f1=predict(deep_copied_model, test_dataset)\n",
    "print(f\"the model accuracy is :{acc:.3f}\")\n",
    "print(f\"the model f1 score is :{f1:.3f}\")"
   ],
   "id": "cb222305e069da24",
   "outputs": [],
   "execution_count": null
  },
  {
   "metadata": {},
   "cell_type": "code",
   "source": "plot_accuracy(epochs, history, string=\"Validation\")",
   "id": "127bd4b98704b3d",
   "outputs": [],
   "execution_count": null
  },
  {
   "metadata": {},
   "cell_type": "markdown",
   "source": "## check point 2 ",
   "id": "68a12ab08e2c09e9"
  },
  {
   "metadata": {},
   "cell_type": "code",
   "source": [
    "deep_copied_model.save(f\"models/build_model_1_v2.h5\")\n",
    "deep_copied_model.save(f\"models/build_model_1_v2.keras\")"
   ],
   "id": "aef6facbded15031",
   "outputs": [],
   "execution_count": null
  },
  {
   "metadata": {},
   "cell_type": "code",
   "source": [
    "### load model 2\n",
    "# from tensorflow.keras import layers, Model, Input\n",
    "# import tensorflow as tf \n",
    "# model_v3 = tf.keras.models.load_model('models/build_model_1_v2.h5')\n",
    "# \n",
    "# epochs=10\n",
    "# # model_v3, history=train_and_evaluate_models([model_v3], val_dataset, test_dataset, epochs, 32, True,l_r=.001,mome=0.0)\n",
    "# data_augmentation = tf.keras.Sequential([\n",
    "#     layers.RandomFlip(\"horizontal_and_vertical\"),\n",
    "#     layers.RandomRotation(0.2),\n",
    "#     layers.RandomZoom(0.1)\n",
    "# ])\n",
    "# \n",
    "# input_shape = model_v3.input_shape[1:]  \n",
    "# \n",
    "# inputs = Input(shape=input_shape)\n",
    "# augmented_inputs = data_augmentation(inputs)\n",
    "# \n",
    "# # Step 5: Pass the augmented inputs to the original model\n",
    "# outputs = model_v3(augmented_inputs)\n",
    "# \n",
    "# # Step 6: Create the new model with data augmentation\n",
    "# model_v3 = Model(inputs=inputs, outputs=outputs)\n",
    "# model_v3, history=train_and_evaluate_models([model_v3], train_dataset, test_dataset, epochs, 32, True,l_r=.0001,mome=0.0)\n",
    "# acc,f1=predict(model_v3, test_dataset)\n",
    "# print(f\"the model accuracy is :{acc:.3f}\")\n",
    "# print(f\"the model f1 score is :{f1:.3f}\")\n",
    "# deep_copied_model.save(f\"models/build_model_1_v3.h5\")\n",
    "# deep_copied_model.save(f\"models/build_model_1_v3.keras\")\n",
    "# plot_accuracy(epochs, history, string=\"Validation\")"
   ],
   "id": "e019edd813bd8885",
   "outputs": [],
   "execution_count": null
  }
 ],
 "metadata": {
  "kernelspec": {
   "display_name": "Python 3",
   "language": "python",
   "name": "python3"
  },
  "language_info": {
   "codemirror_mode": {
    "name": "ipython",
    "version": 2
   },
   "file_extension": ".py",
   "mimetype": "text/x-python",
   "name": "python",
   "nbconvert_exporter": "python",
   "pygments_lexer": "ipython2",
   "version": "2.7.6"
  }
 },
 "nbformat": 4,
 "nbformat_minor": 5
}
