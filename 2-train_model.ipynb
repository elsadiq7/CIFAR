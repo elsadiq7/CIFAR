{
 "cells": [
  {
   "cell_type": "code",
   "id": "initial_id",
   "metadata": {
    "collapsed": true,
    "ExecuteTime": {
     "end_time": "2024-10-22T17:00:54.019429Z",
     "start_time": "2024-10-22T17:00:37.799722Z"
    }
   },
   "source": [
    "import utlis.load_patchs\n",
    "import utlis.models_training_testing\n",
    "import utlis.plotting\n",
    "import importlib\n",
    "import os\n",
    "import copy \n",
    "# Reload the modules after changes\n",
    "importlib.reload(utlis.load_patchs)\n",
    "importlib.reload(utlis.models_training_testing)\n",
    "importlib.reload(utlis.plotting)\n",
    "\n",
    "# Then use the wildcard import to bring in the functions\n",
    "from utlis.load_patchs import *\n",
    "from utlis.models_training_testing import *\n",
    "from utlis.plotting import *\n"
   ],
   "outputs": [],
   "execution_count": 1
  },
  {
   "metadata": {
    "ExecuteTime": {
     "end_time": "2024-10-22T17:00:54.028132Z",
     "start_time": "2024-10-22T17:00:54.019429Z"
    }
   },
   "cell_type": "code",
   "source": [
    "classes={0: 'airplane',\n",
    " 1: 'automobile',\n",
    " 2: 'bird',\n",
    " 3: 'cat',\n",
    " 4: 'deer',\n",
    " 5: 'dog',\n",
    " 6: 'frog',\n",
    " 7: 'horse',\n",
    " 8: 'ship',\n",
    " 9: 'truck'}"
   ],
   "id": "7a614f73af04c465",
   "outputs": [],
   "execution_count": 2
  },
  {
   "metadata": {
    "ExecuteTime": {
     "end_time": "2024-10-22T17:00:54.932420Z",
     "start_time": "2024-10-22T17:00:54.028132Z"
    }
   },
   "cell_type": "code",
   "source": [
    "# load datasets as patchs\n",
    "train_dataset=read_image_labels(\"data/images/train.txt\", 32, [32, 32])\n",
    "val_dataset=read_image_labels(\"data/images/val.txt\", 32, [32, 32])\n",
    "test_dataset=read_image_labels(\"data/images/test.txt\", 32, [32, 32])\n",
    "# train_for_model_slection=read_image_labels(\"data/images/train_f_model_selction.txt\", 32, [32, 32])"
   ],
   "id": "3d8bb1ee1dc990b9",
   "outputs": [],
   "execution_count": 3
  },
  {
   "metadata": {},
   "cell_type": "code",
   "source": [
    "one_patch = next(iter(train_dataset))  # Get the first batch\n",
    "images_patch, labels_patch = one_patch  # Unpack the images and labels\n",
    "image_shape=images_patch[0].shape\n",
    "print(\"image shape:\",image_shape)\n"
   ],
   "id": "7bd4e6f48038d5d0",
   "outputs": [],
   "execution_count": null
  },
  {
   "metadata": {},
   "cell_type": "code",
   "source": [
    "#show sample of data \n",
    "show_images(images_patch, labels_patch)"
   ],
   "id": "5dd272bb48f90b02",
   "outputs": [],
   "execution_count": null
  },
  {
   "metadata": {},
   "cell_type": "markdown",
   "source": "# choose the model",
   "id": "eacf58fdefb1ea83"
  },
  {
   "metadata": {},
   "cell_type": "code",
   "source": [
    "#load_models\n",
    "models_list = [\n",
    "    model_1(),\n",
    "    model_2(image_shape=image_shape)  ]\n",
    "print(\"*\"*90)\n",
    "for i in models_list:\n",
    "  print(\"*\"*90)\n",
    "  print(i.summary())\n",
    "  print(\"*\"*90)\n",
    "print(\"*\"*90)"
   ],
   "id": "8923a8b1e1d4ce3a",
   "outputs": [],
   "execution_count": null
  },
  {
   "metadata": {},
   "cell_type": "code",
   "source": "image_shape",
   "id": "984bc308aa4c1090",
   "outputs": [],
   "execution_count": null
  },
  {
   "metadata": {},
   "cell_type": "code",
   "source": [
    "#choose the best model \n",
    "epochs=10\n",
    "model_performance, best_model_name=train_and_evaluate_models(models_list, val_dataset, test_dataset, epochs, 32, False) "
   ],
   "id": "98a50adb7d9c21df",
   "outputs": [],
   "execution_count": null
  },
  {
   "metadata": {},
   "cell_type": "code",
   "source": [
    "#train the best model\n",
    "epochs=100\n",
    "model, history=train_and_evaluate_models( [models_list[int(best_model_name.split(\"_\")[2])-1]], train_dataset, val_dataset,epochs, 32, True)"
   ],
   "id": "549a244365c939de",
   "outputs": [],
   "execution_count": null
  },
  {
   "metadata": {},
   "cell_type": "code",
   "source": [
    "#plot the error  \n",
    "plot_accuracy(epochs, history, string=\"Validation\")"
   ],
   "id": "af97620121d79536",
   "outputs": [],
   "execution_count": null
  },
  {
   "metadata": {},
   "cell_type": "code",
   "source": [
    "acc,f1=predict(model, test_dataset)\n",
    "print(\"the model accuracy is :\",acc)\n",
    "print(\"the model f1 score is :\",f1)"
   ],
   "id": "775c59387b6df66d",
   "outputs": [],
   "execution_count": null
  },
  {
   "metadata": {},
   "cell_type": "markdown",
   "source": "### check_point",
   "id": "cd8618f00a9227f4"
  },
  {
   "metadata": {},
   "cell_type": "code",
   "source": [
    "try:\n",
    "    os.makedirs(\"models\")\n",
    "    \n",
    "except OSError:\n",
    "    print(\"Creation of the directory %s failed\" % os.path.abspath(\"models\"))\n",
    "model.save(f\"models/{best_model_name}.h5\")\n",
    "model.save(f\"models/{best_model_name}.keras\")\n"
   ],
   "id": "ef0933a63f6ac5dd",
   "outputs": [],
   "execution_count": null
  },
  {
   "metadata": {},
   "cell_type": "code",
   "outputs": [],
   "execution_count": null,
   "source": "",
   "id": "ff7c588160117f53"
  },
  {
   "metadata": {},
   "cell_type": "markdown",
   "source": "# load model ",
   "id": "e35d56423bd6632b"
  },
  {
   "metadata": {},
   "cell_type": "code",
   "source": [
    "# Load the Keras model from the .h5 file\n",
    "model_path = 'models/build_model_1.h5'  # Path to your Keras model\n",
    "model = tf.keras.models.load_model(model_path)\n",
    "\n",
    "# Print the model summary\n",
    "model.summary()\n"
   ],
   "id": "97b043f827bdf34b",
   "outputs": [],
   "execution_count": null
  },
  {
   "metadata": {},
   "cell_type": "code",
   "source": [
    "# Assume 'model' is your existing model\n",
    "deep_copied_model = copy.deepcopy(model)\n",
    "epochs=10\n",
    "deep_copied_model, history=train_and_evaluate_models([deep_copied_model], train_dataset, val_dataset, epochs, 32, True,l_r=.001,mome=0.0)"
   ],
   "id": "bf8d3c38624c868d",
   "outputs": [],
   "execution_count": null
  },
  {
   "metadata": {},
   "cell_type": "code",
   "source": [
    "acc,f1=predict(deep_copied_model, test_dataset)\n",
    "print(f\"the model accuracy is :{acc:.3f}\")\n",
    "print(f\"the model f1 score is :{f1:.3f}\")"
   ],
   "id": "cb222305e069da24",
   "outputs": [],
   "execution_count": null
  },
  {
   "metadata": {},
   "cell_type": "code",
   "source": "plot_accuracy(epochs, history, string=\"Validation\")",
   "id": "127bd4b98704b3d",
   "outputs": [],
   "execution_count": null
  },
  {
   "metadata": {},
   "cell_type": "markdown",
   "source": "## check point 2 ",
   "id": "68a12ab08e2c09e9"
  },
  {
   "metadata": {},
   "cell_type": "code",
   "source": [
    "deep_copied_model.save(f\"models/build_model_1_v2.h5\")\n",
    "deep_copied_model.save(f\"models/build_model_1_v2.keras\")"
   ],
   "id": "aef6facbded15031",
   "outputs": [],
   "execution_count": null
  },
  {
   "metadata": {
    "ExecuteTime": {
     "end_time": "2024-10-22T17:03:06.257008Z",
     "start_time": "2024-10-22T17:01:03.381087Z"
    }
   },
   "cell_type": "code",
   "source": [
    "### load model 2\n",
    "import tensorflow as tf \n",
    "model_v3 = tf.keras.models.load_model('models/build_model_1_v2.h5')\n",
    "acc,f1=predict(model_v3, test_dataset)"
   ],
   "id": "e019edd813bd8885",
   "outputs": [
    {
     "name": "stderr",
     "output_type": "stream",
     "text": [
      "WARNING:absl:Compiled the loaded model, but the compiled metrics have yet to be built. `model.compile_metrics` will be empty until you train or evaluate the model.\n"
     ]
    },
    {
     "name": "stdout",
     "output_type": "stream",
     "text": [
      "\u001B[1m313/313\u001B[0m \u001B[32m━━━━━━━━━━━━━━━━━━━━\u001B[0m\u001B[37m\u001B[0m \u001B[1m6s\u001B[0m 16ms/step\n",
      "the model accuracy is :0.857\n",
      "the model f1 score is :0.856\n"
     ]
    }
   ],
   "execution_count": 5
  },
  {
   "metadata": {
    "ExecuteTime": {
     "end_time": "2024-10-22T17:03:48.257067Z",
     "start_time": "2024-10-22T17:03:48.251778Z"
    }
   },
   "cell_type": "code",
   "source": [
    "print(f\"the model accuracy is :{acc*100:.2f}%\")\n",
    "print(f\"the model f1 score is :{f1*100:.2f}%\")"
   ],
   "id": "fe15c6f7c7f97316",
   "outputs": [
    {
     "name": "stdout",
     "output_type": "stream",
     "text": [
      "the model accuracy is :85.67%\n",
      "the model f1 score is :85.57%\n"
     ]
    }
   ],
   "execution_count": 8
  }
 ],
 "metadata": {
  "kernelspec": {
   "display_name": "Python 3",
   "language": "python",
   "name": "python3"
  },
  "language_info": {
   "codemirror_mode": {
    "name": "ipython",
    "version": 2
   },
   "file_extension": ".py",
   "mimetype": "text/x-python",
   "name": "python",
   "nbconvert_exporter": "python",
   "pygments_lexer": "ipython2",
   "version": "2.7.6"
  }
 },
 "nbformat": 4,
 "nbformat_minor": 5
}
